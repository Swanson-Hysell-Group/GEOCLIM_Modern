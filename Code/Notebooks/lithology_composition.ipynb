{
 "cells": [
  {
   "cell_type": "markdown",
   "metadata": {},
   "source": [
    "# Mg and Ca values for GEOCLIM\n",
    "\n",
    "This notebook calculates the Mg and Ca composition of lithological classes in order to develop informed constants for the Ca and Mg constant that is used within the GEOCLIM model."
   ]
  },
  {
   "cell_type": "code",
   "execution_count": 1,
   "metadata": {},
   "outputs": [],
   "source": [
    "import numpy as np\n",
    "import pandas as pd\n",
    "import seaborn as sns\n",
    "import matplotlib.pyplot as plt"
   ]
  },
  {
   "cell_type": "markdown",
   "metadata": {},
   "source": [
    "## Import EarthChem data\n",
    "\n",
    "We can used the igneous whole-rock dataset (largely derived from EarthChem) published as a supplement to Keller et al. 2018."
   ]
  },
  {
   "cell_type": "code",
   "execution_count": 2,
   "metadata": {},
   "outputs": [
    {
     "name": "stderr",
     "output_type": "stream",
     "text": [
      "/Users/yuempark/anaconda3/lib/python3.7/site-packages/IPython/core/interactiveshell.py:3072: DtypeWarning: Columns (4) have mixed types.Specify dtype option on import or set low_memory=False.\n",
      "  interactivity=interactivity, compiler=compiler, result=result)\n"
     ]
    },
    {
     "data": {
      "text/plain": [
       "Index(['ID', 'SAMPLE ID', 'SOURCE', 'REFERENCE', 'LOCALITY', 'METHODS',\n",
       "       'MATERIAL', 'TYPE', 'COMPOSITION', 'ROCK NAME', 'ID.1', 'LATITUDE',\n",
       "       'LONGITUDE', 'LOC PREC', 'MIN AGE', 'MAX AGE', 'AGE', 'SIO2', 'TIO2',\n",
       "       'AL2O3', 'FE2O3', 'FE2O3T', 'FEO', 'FEOT', 'MGO', 'CAO', 'NA2O', 'K2O',\n",
       "       'P2O5', 'MNO', 'H2O_TOTAL', 'LA', 'CE', 'PR', 'ND', 'SM', 'EU', 'GD',\n",
       "       'TB', 'DY', 'HO', 'ER', 'TM', 'YB', 'LU', 'LI', 'BE', 'B', 'C', 'CO2',\n",
       "       'F', 'CL', 'SC', 'TI', 'V', 'CR', 'CO', 'NI', 'CU', 'ZN', 'GA', 'ZR',\n",
       "       'OS', 'RB', 'BI', 'HG', 'BA', 'Y', 'PB', 'TE', 'NB', 'SR87_SR86', 'TL',\n",
       "       'PT', 'SN', 'CD', 'AS', 'PD', 'SR', 'SE', 'S', 'AU', 'TA', 'MO', 'U',\n",
       "       'CS', 'SB', 'AG', 'W', 'TH', 'RE', 'HF', 'IR'],\n",
       "      dtype='object')"
      ]
     },
     "execution_count": 2,
     "metadata": {},
     "output_type": "execute_result"
    }
   ],
   "source": [
    "igneous_geochem = pd.read_csv('../Input/chemistry/Keller2018.csv',delimiter='\\t')\n",
    "igneous_geochem.columns"
   ]
  },
  {
   "cell_type": "markdown",
   "metadata": {},
   "source": [
    "Siliciclastic data from EarthChem:"
   ]
  },
  {
   "cell_type": "code",
   "execution_count": 3,
   "metadata": {},
   "outputs": [
    {
     "data": {
      "text/plain": [
       "Index(['SAMPLE ID', 'IGSN', 'SOURCE', 'DOI', 'TITLE', 'JOURNAL', 'AUTHOR',\n",
       "       'CRUISEID', 'LATITUDE', 'LONGITUDE', 'LOC PREC', 'MIN AGE', 'AGE',\n",
       "       'MAX AGE', 'METHOD', 'MATERIAL', 'TYPE', 'COMPOSITION', 'ROCK NAME',\n",
       "       'SIO2', 'SIO2 Units', 'TIO2', 'TIO2 Units', 'AL2O3', 'AL2O3 Units',\n",
       "       'FE2O3', 'FE2O3 Units', 'FE2O3T', 'FE2O3T Units', 'FEO', 'FEO Units',\n",
       "       'FEOT', 'FEOT Units', 'MGO', 'MGO Units', 'CAO', 'CAO Units', 'NA2O',\n",
       "       'NA2O Units', 'K2O', 'K2O Units', 'P2O5', 'P2O5 Units', 'MNO',\n",
       "       'MNO Units', 'CR2O3', 'CR2O3 Units', 'CACO3', 'CACO3 Units', 'HE3_HE4',\n",
       "       'HE3_HE4 Units'],\n",
       "      dtype='object')"
      ]
     },
     "execution_count": 3,
     "metadata": {},
     "output_type": "execute_result"
    }
   ],
   "source": [
    "siliciclastic_geochem = pd.read_csv('../Input/chemistry/EarthChem_siliciclastics.csv')\n",
    "siliciclastic_geochem.columns"
   ]
  },
  {
   "cell_type": "markdown",
   "metadata": {},
   "source": [
    "Gneiss data from EarthChem:"
   ]
  },
  {
   "cell_type": "code",
   "execution_count": 4,
   "metadata": {},
   "outputs": [
    {
     "data": {
      "text/plain": [
       "Index(['SAMPLE ID', 'IGSN', 'SOURCE', 'DOI', 'TITLE', 'JOURNAL', 'AUTHOR',\n",
       "       'CRUISEID', 'LATITUDE', 'LONGITUDE', 'LOC PREC', 'MIN AGE', 'AGE',\n",
       "       'MAX AGE', 'METHOD', 'MATERIAL', 'TYPE', 'COMPOSITION', 'ROCK NAME',\n",
       "       'SIO2', 'TIO2', 'AL2O3', 'FE2O3', 'FE2O3T', 'FEO', 'FEOT', 'MGO', 'CAO',\n",
       "       'NA2O', 'K2O', 'P2O5', 'MNO', 'CR2O3', 'NIO', 'LI', 'BE', 'B', 'C', 'K',\n",
       "       'CA', 'MG', 'SC', 'TI', 'V', 'FE', 'CR', 'MN', 'CO', 'NI', 'ZN', 'CU',\n",
       "       'ZR', 'GA', 'GER', 'BA', 'W', 'AU', 'HG', 'TA', 'SB', 'SE', 'SN', 'S',\n",
       "       'U', 'RE', 'I', 'P', 'Y', 'MO', 'PD', 'TE', 'PT', 'HF', 'IR', 'PB',\n",
       "       'INDIUM', 'AG', 'TH', 'TL', 'AS', 'RB', 'AL', 'CS', 'SR', 'BI', 'NB',\n",
       "       'OS', 'CD', 'quartz'],\n",
       "      dtype='object')"
      ]
     },
     "execution_count": 4,
     "metadata": {},
     "output_type": "execute_result"
    }
   ],
   "source": [
    "gneiss_geochem = pd.read_excel('../Input/chemistry/EarthChem_gneiss.xlsx', header=6)\n",
    "gneiss_geochem.columns"
   ]
  },
  {
   "cell_type": "markdown",
   "metadata": {},
   "source": [
    "## Median/Mean Values\n",
    "\n",
    "We can filter the igneous database according to the `COMPOSITION` and `TYPE` field:"
   ]
  },
  {
   "cell_type": "code",
   "execution_count": 5,
   "metadata": {},
   "outputs": [
    {
     "name": "stdout",
     "output_type": "stream",
     "text": [
      "['MAFIC' 'INTERMEDIATE' 'FELSIC' nan 'ULTRAMAFIC' 'EXOTIC' 'UNCERTAIN']\n",
      "['VOLCANIC' nan 'PLUTONIC']\n"
     ]
    }
   ],
   "source": [
    "print(igneous_geochem['COMPOSITION'].unique())\n",
    "print(igneous_geochem['TYPE'].unique())"
   ]
  },
  {
   "cell_type": "markdown",
   "metadata": {},
   "source": [
    "We can filter the siliciclastic database according to the `ROCK NAME` field:"
   ]
  },
  {
   "cell_type": "code",
   "execution_count": 6,
   "metadata": {},
   "outputs": [
    {
     "name": "stdout",
     "output_type": "stream",
     "text": [
      "['CLAYSTONE' 'GREYWACKE' 'SANDSTONE' 'CLAY' 'MUDSTONE' 'TURBIDITE'\n",
      " 'PELITE' 'SILTSTONE' 'SAND' 'WACKE' 'MUD' 'SILT' 'FLYSCH' 'NOT-GIVEN'\n",
      " 'GRAVEL AND SAND' 'OIL SHALE' 'GRAYWACKE' 'BLACK-SHALE' 'QUARTZ ARENITE'\n",
      " 'LUTITE' 'TONSTEIN' 'SILICICLASTIC' 'GRAVEL']\n"
     ]
    }
   ],
   "source": [
    "print(siliciclastic_geochem['ROCK NAME'].unique())"
   ]
  },
  {
   "cell_type": "markdown",
   "metadata": {},
   "source": [
    "There is a prevelance of oil shale data in the EARTHREF sed data. To not bias to these data too heavily we drop them."
   ]
  },
  {
   "cell_type": "code",
   "execution_count": 7,
   "metadata": {},
   "outputs": [],
   "source": [
    "ultramafic = igneous_geochem[igneous_geochem.COMPOSITION == 'ULTRAMAFIC']\n",
    "\n",
    "mafic = igneous_geochem[igneous_geochem.COMPOSITION == 'MAFIC']\n",
    "mafic_volc = mafic[mafic.TYPE == 'VOLCANIC']\n",
    "mafic_plutonic = mafic[mafic.TYPE == 'PLUTONIC']\n",
    "\n",
    "intermediate = igneous_geochem[igneous_geochem.COMPOSITION == 'INTERMEDIATE']\n",
    "intermediate_volc = intermediate[intermediate.TYPE == 'VOLCANIC']\n",
    "intermediate_plutonic = intermediate[intermediate.TYPE == 'PLUTONIC']\n",
    "\n",
    "felsic = igneous_geochem[igneous_geochem.COMPOSITION == 'FELSIC']\n",
    "felsic_volc = felsic[felsic.TYPE == 'VOLCANIC']\n",
    "felsic_plutonic = felsic[felsic.TYPE == 'PLUTONIC']\n",
    "\n",
    "siliciclastic = siliciclastic_geochem[siliciclastic_geochem['ROCK NAME']!='OIL SHALE']\n",
    "\n",
    "gneiss = gneiss_geochem"
   ]
  },
  {
   "cell_type": "markdown",
   "metadata": {},
   "source": [
    "Values for bulk upper continental crust:\n",
    "\n",
    "* 2.48 $\\pm$ 0.35 wt% of MgO and 3.59 $\\pm$ 0.20 wt% of CaO is for the bulk upper continental crust from Rudnick and Gao (2003) - errors shown are 1 sigma"
   ]
  },
  {
   "cell_type": "code",
   "execution_count": 8,
   "metadata": {},
   "outputs": [],
   "source": [
    "UCC_MgO = 2.48\n",
    "UCC_CaO = 3.59"
   ]
  },
  {
   "cell_type": "markdown",
   "metadata": {},
   "source": [
    "Show values:"
   ]
  },
  {
   "cell_type": "code",
   "execution_count": 9,
   "metadata": {},
   "outputs": [
    {
     "data": {
      "text/html": [
       "<div>\n",
       "<style scoped>\n",
       "    .dataframe tbody tr th:only-of-type {\n",
       "        vertical-align: middle;\n",
       "    }\n",
       "\n",
       "    .dataframe tbody tr th {\n",
       "        vertical-align: top;\n",
       "    }\n",
       "\n",
       "    .dataframe thead th {\n",
       "        text-align: right;\n",
       "    }\n",
       "</style>\n",
       "<table border=\"1\" class=\"dataframe\">\n",
       "  <thead>\n",
       "    <tr style=\"text-align: right;\">\n",
       "      <th></th>\n",
       "      <th>class</th>\n",
       "      <th>n</th>\n",
       "      <th>MgO median</th>\n",
       "      <th>MgO mean</th>\n",
       "      <th>MgO std</th>\n",
       "      <th>CaO median</th>\n",
       "      <th>CaO mean</th>\n",
       "      <th>CaO std</th>\n",
       "      <th>Na2O median</th>\n",
       "      <th>Na2O mean</th>\n",
       "      <th>Na2O std</th>\n",
       "      <th>K2O median</th>\n",
       "      <th>K2O mean</th>\n",
       "      <th>K2O std</th>\n",
       "    </tr>\n",
       "  </thead>\n",
       "  <tbody>\n",
       "    <tr>\n",
       "      <th>0</th>\n",
       "      <td>ultramafic</td>\n",
       "      <td>333.0</td>\n",
       "      <td>19.00</td>\n",
       "      <td>19.301826</td>\n",
       "      <td>9.840718</td>\n",
       "      <td>8.20</td>\n",
       "      <td>9.023039</td>\n",
       "      <td>5.525773</td>\n",
       "      <td>0.685</td>\n",
       "      <td>1.053604</td>\n",
       "      <td>1.148592</td>\n",
       "      <td>0.165</td>\n",
       "      <td>0.605434</td>\n",
       "      <td>1.120846</td>\n",
       "    </tr>\n",
       "    <tr>\n",
       "      <th>1</th>\n",
       "      <td>mafic</td>\n",
       "      <td>22895.0</td>\n",
       "      <td>6.80</td>\n",
       "      <td>7.215978</td>\n",
       "      <td>3.331445</td>\n",
       "      <td>9.41</td>\n",
       "      <td>9.244989</td>\n",
       "      <td>2.431025</td>\n",
       "      <td>2.800</td>\n",
       "      <td>2.812069</td>\n",
       "      <td>1.025042</td>\n",
       "      <td>0.760</td>\n",
       "      <td>1.056511</td>\n",
       "      <td>1.135947</td>\n",
       "    </tr>\n",
       "    <tr>\n",
       "      <th>2</th>\n",
       "      <td>mafic volcanic</td>\n",
       "      <td>18494.0</td>\n",
       "      <td>6.80</td>\n",
       "      <td>7.145560</td>\n",
       "      <td>3.039766</td>\n",
       "      <td>9.37</td>\n",
       "      <td>9.218380</td>\n",
       "      <td>2.275091</td>\n",
       "      <td>2.880</td>\n",
       "      <td>2.884303</td>\n",
       "      <td>0.991133</td>\n",
       "      <td>0.820</td>\n",
       "      <td>1.073069</td>\n",
       "      <td>1.071001</td>\n",
       "    </tr>\n",
       "    <tr>\n",
       "      <th>3</th>\n",
       "      <td>mafic plutonic</td>\n",
       "      <td>3468.0</td>\n",
       "      <td>6.90</td>\n",
       "      <td>7.260145</td>\n",
       "      <td>3.643621</td>\n",
       "      <td>9.95</td>\n",
       "      <td>9.632568</td>\n",
       "      <td>2.846047</td>\n",
       "      <td>2.420</td>\n",
       "      <td>2.523012</td>\n",
       "      <td>1.052828</td>\n",
       "      <td>0.540</td>\n",
       "      <td>0.906130</td>\n",
       "      <td>1.174766</td>\n",
       "    </tr>\n",
       "    <tr>\n",
       "      <th>4</th>\n",
       "      <td>intermediate</td>\n",
       "      <td>16762.0</td>\n",
       "      <td>2.66</td>\n",
       "      <td>3.061509</td>\n",
       "      <td>2.418824</td>\n",
       "      <td>5.30</td>\n",
       "      <td>5.270664</td>\n",
       "      <td>2.740324</td>\n",
       "      <td>3.740</td>\n",
       "      <td>3.852657</td>\n",
       "      <td>1.260883</td>\n",
       "      <td>2.340</td>\n",
       "      <td>2.776342</td>\n",
       "      <td>1.940281</td>\n",
       "    </tr>\n",
       "    <tr>\n",
       "      <th>5</th>\n",
       "      <td>intermediate volcanic</td>\n",
       "      <td>8156.0</td>\n",
       "      <td>3.28</td>\n",
       "      <td>3.582284</td>\n",
       "      <td>2.683862</td>\n",
       "      <td>5.90</td>\n",
       "      <td>5.648358</td>\n",
       "      <td>2.773948</td>\n",
       "      <td>3.820</td>\n",
       "      <td>3.964371</td>\n",
       "      <td>1.429803</td>\n",
       "      <td>2.170</td>\n",
       "      <td>2.745247</td>\n",
       "      <td>2.034919</td>\n",
       "    </tr>\n",
       "    <tr>\n",
       "      <th>6</th>\n",
       "      <td>intermediate plutonic</td>\n",
       "      <td>7977.0</td>\n",
       "      <td>2.20</td>\n",
       "      <td>2.598668</td>\n",
       "      <td>2.027331</td>\n",
       "      <td>4.76</td>\n",
       "      <td>4.973807</td>\n",
       "      <td>2.657960</td>\n",
       "      <td>3.700</td>\n",
       "      <td>3.768229</td>\n",
       "      <td>1.054009</td>\n",
       "      <td>2.410</td>\n",
       "      <td>2.785637</td>\n",
       "      <td>1.852583</td>\n",
       "    </tr>\n",
       "    <tr>\n",
       "      <th>7</th>\n",
       "      <td>felsic</td>\n",
       "      <td>16258.0</td>\n",
       "      <td>0.58</td>\n",
       "      <td>0.989776</td>\n",
       "      <td>1.244701</td>\n",
       "      <td>1.44</td>\n",
       "      <td>2.033561</td>\n",
       "      <td>1.984294</td>\n",
       "      <td>3.500</td>\n",
       "      <td>3.450636</td>\n",
       "      <td>1.222203</td>\n",
       "      <td>4.240</td>\n",
       "      <td>3.967792</td>\n",
       "      <td>1.740724</td>\n",
       "    </tr>\n",
       "    <tr>\n",
       "      <th>8</th>\n",
       "      <td>felsic volcanic</td>\n",
       "      <td>5460.0</td>\n",
       "      <td>0.65</td>\n",
       "      <td>0.981747</td>\n",
       "      <td>1.088957</td>\n",
       "      <td>1.35</td>\n",
       "      <td>1.898828</td>\n",
       "      <td>1.796204</td>\n",
       "      <td>3.710</td>\n",
       "      <td>3.523135</td>\n",
       "      <td>1.382263</td>\n",
       "      <td>3.920</td>\n",
       "      <td>3.749617</td>\n",
       "      <td>1.819281</td>\n",
       "    </tr>\n",
       "    <tr>\n",
       "      <th>9</th>\n",
       "      <td>felsic plutonic</td>\n",
       "      <td>10771.0</td>\n",
       "      <td>0.56</td>\n",
       "      <td>0.993238</td>\n",
       "      <td>1.317149</td>\n",
       "      <td>1.50</td>\n",
       "      <td>2.100825</td>\n",
       "      <td>2.067296</td>\n",
       "      <td>3.420</td>\n",
       "      <td>3.413095</td>\n",
       "      <td>1.128819</td>\n",
       "      <td>4.350</td>\n",
       "      <td>4.079359</td>\n",
       "      <td>1.689215</td>\n",
       "    </tr>\n",
       "    <tr>\n",
       "      <th>10</th>\n",
       "      <td>siliciclastic</td>\n",
       "      <td>19185.0</td>\n",
       "      <td>2.17</td>\n",
       "      <td>2.471031</td>\n",
       "      <td>2.305177</td>\n",
       "      <td>2.43</td>\n",
       "      <td>5.633498</td>\n",
       "      <td>8.065641</td>\n",
       "      <td>1.570</td>\n",
       "      <td>1.798023</td>\n",
       "      <td>1.327162</td>\n",
       "      <td>2.090</td>\n",
       "      <td>2.116761</td>\n",
       "      <td>1.315577</td>\n",
       "    </tr>\n",
       "    <tr>\n",
       "      <th>11</th>\n",
       "      <td>bulk continental crust</td>\n",
       "      <td>NaN</td>\n",
       "      <td>NaN</td>\n",
       "      <td>2.480000</td>\n",
       "      <td>NaN</td>\n",
       "      <td>NaN</td>\n",
       "      <td>3.590000</td>\n",
       "      <td>NaN</td>\n",
       "      <td>NaN</td>\n",
       "      <td>NaN</td>\n",
       "      <td>NaN</td>\n",
       "      <td>NaN</td>\n",
       "      <td>NaN</td>\n",
       "      <td>NaN</td>\n",
       "    </tr>\n",
       "    <tr>\n",
       "      <th>12</th>\n",
       "      <td>gneiss</td>\n",
       "      <td>23668.0</td>\n",
       "      <td>1.22</td>\n",
       "      <td>2.160912</td>\n",
       "      <td>2.704342</td>\n",
       "      <td>2.56</td>\n",
       "      <td>3.662184</td>\n",
       "      <td>3.777745</td>\n",
       "      <td>3.400</td>\n",
       "      <td>3.332224</td>\n",
       "      <td>1.404461</td>\n",
       "      <td>2.435</td>\n",
       "      <td>2.725731</td>\n",
       "      <td>1.765751</td>\n",
       "    </tr>\n",
       "  </tbody>\n",
       "</table>\n",
       "</div>"
      ],
      "text/plain": [
       "                     class        n  MgO median   MgO mean   MgO std  \\\n",
       "0               ultramafic    333.0       19.00  19.301826  9.840718   \n",
       "1                    mafic  22895.0        6.80   7.215978  3.331445   \n",
       "2           mafic volcanic  18494.0        6.80   7.145560  3.039766   \n",
       "3           mafic plutonic   3468.0        6.90   7.260145  3.643621   \n",
       "4             intermediate  16762.0        2.66   3.061509  2.418824   \n",
       "5    intermediate volcanic   8156.0        3.28   3.582284  2.683862   \n",
       "6    intermediate plutonic   7977.0        2.20   2.598668  2.027331   \n",
       "7                   felsic  16258.0        0.58   0.989776  1.244701   \n",
       "8          felsic volcanic   5460.0        0.65   0.981747  1.088957   \n",
       "9          felsic plutonic  10771.0        0.56   0.993238  1.317149   \n",
       "10           siliciclastic  19185.0        2.17   2.471031  2.305177   \n",
       "11  bulk continental crust      NaN         NaN   2.480000       NaN   \n",
       "12                  gneiss  23668.0        1.22   2.160912  2.704342   \n",
       "\n",
       "    CaO median  CaO mean   CaO std  Na2O median  Na2O mean  Na2O std  \\\n",
       "0         8.20  9.023039  5.525773        0.685   1.053604  1.148592   \n",
       "1         9.41  9.244989  2.431025        2.800   2.812069  1.025042   \n",
       "2         9.37  9.218380  2.275091        2.880   2.884303  0.991133   \n",
       "3         9.95  9.632568  2.846047        2.420   2.523012  1.052828   \n",
       "4         5.30  5.270664  2.740324        3.740   3.852657  1.260883   \n",
       "5         5.90  5.648358  2.773948        3.820   3.964371  1.429803   \n",
       "6         4.76  4.973807  2.657960        3.700   3.768229  1.054009   \n",
       "7         1.44  2.033561  1.984294        3.500   3.450636  1.222203   \n",
       "8         1.35  1.898828  1.796204        3.710   3.523135  1.382263   \n",
       "9         1.50  2.100825  2.067296        3.420   3.413095  1.128819   \n",
       "10        2.43  5.633498  8.065641        1.570   1.798023  1.327162   \n",
       "11         NaN  3.590000       NaN          NaN        NaN       NaN   \n",
       "12        2.56  3.662184  3.777745        3.400   3.332224  1.404461   \n",
       "\n",
       "    K2O median  K2O mean   K2O std  \n",
       "0        0.165  0.605434  1.120846  \n",
       "1        0.760  1.056511  1.135947  \n",
       "2        0.820  1.073069  1.071001  \n",
       "3        0.540  0.906130  1.174766  \n",
       "4        2.340  2.776342  1.940281  \n",
       "5        2.170  2.745247  2.034919  \n",
       "6        2.410  2.785637  1.852583  \n",
       "7        4.240  3.967792  1.740724  \n",
       "8        3.920  3.749617  1.819281  \n",
       "9        4.350  4.079359  1.689215  \n",
       "10       2.090  2.116761  1.315577  \n",
       "11         NaN       NaN       NaN  \n",
       "12       2.435  2.725731  1.765751  "
      ]
     },
     "execution_count": 9,
     "metadata": {},
     "output_type": "execute_result"
    }
   ],
   "source": [
    "lith_class = ['ultramafic',\n",
    "              'mafic',\n",
    "              'mafic volcanic',\n",
    "              'mafic plutonic',\n",
    "              'intermediate',\n",
    "              'intermediate volcanic',\n",
    "              'intermediate plutonic',\n",
    "              'felsic',\n",
    "              'felsic volcanic',\n",
    "              'felsic plutonic',\n",
    "              'siliciclastic',\n",
    "              'bulk continental crust',\n",
    "              'gneiss']\n",
    "n = np.array([len(ultramafic),\n",
    "              len(mafic),\n",
    "              len(mafic_volc),\n",
    "              len(mafic_plutonic),\n",
    "              len(intermediate),\n",
    "              len(intermediate_volc),\n",
    "              len(intermediate_plutonic),\n",
    "              len(felsic),\n",
    "              len(felsic_volc),\n",
    "              len(felsic_plutonic),\n",
    "              len(siliciclastic),\n",
    "              np.nan,\n",
    "              len(gneiss)])\n",
    "MgO_median = np.array([ultramafic['MGO'].median(),\n",
    "                       mafic['MGO'].median(),\n",
    "                       mafic_volc['MGO'].median(),\n",
    "                       mafic_plutonic['MGO'].median(),\n",
    "                       intermediate['MGO'].median(),\n",
    "                       intermediate_volc['MGO'].median(),\n",
    "                       intermediate_plutonic['MGO'].median(),\n",
    "                       felsic['MGO'].median(),\n",
    "                       felsic_volc['MGO'].median(),\n",
    "                       felsic_plutonic['MGO'].median(),\n",
    "                       siliciclastic['MGO'].median(),\n",
    "                       np.nan,\n",
    "                       gneiss['MGO'].median()])\n",
    "MgO_mean = np.array([ultramafic['MGO'].mean(),\n",
    "                     mafic['MGO'].mean(),\n",
    "                     mafic_volc['MGO'].mean(),\n",
    "                     mafic_plutonic['MGO'].mean(),\n",
    "                     intermediate['MGO'].mean(),\n",
    "                     intermediate_volc['MGO'].mean(),\n",
    "                     intermediate_plutonic['MGO'].mean(),\n",
    "                     felsic['MGO'].mean(),\n",
    "                     felsic_volc['MGO'].mean(),\n",
    "                     felsic_plutonic['MGO'].mean(),\n",
    "                     siliciclastic['MGO'].mean(),\n",
    "                     UCC_MgO,\n",
    "                     gneiss['MGO'].mean()])\n",
    "MgO_std = np.array([ultramafic['MGO'].std(),\n",
    "                    mafic['MGO'].std(),\n",
    "                    mafic_volc['MGO'].std(),\n",
    "                    mafic_plutonic['MGO'].std(),\n",
    "                    intermediate['MGO'].std(),\n",
    "                    intermediate_volc['MGO'].std(),\n",
    "                    intermediate_plutonic['MGO'].std(),\n",
    "                    felsic['MGO'].std(),\n",
    "                    felsic_volc['MGO'].std(),\n",
    "                    felsic_plutonic['MGO'].std(),\n",
    "                    siliciclastic['MGO'].std(),\n",
    "                    np.nan,\n",
    "                    gneiss['MGO'].std()])\n",
    "CaO_median = np.array([ultramafic['CAO'].median(),\n",
    "                       mafic['CAO'].median(),\n",
    "                       mafic_volc['CAO'].median(),\n",
    "                       mafic_plutonic['CAO'].median(),\n",
    "                       intermediate['CAO'].median(),\n",
    "                       intermediate_volc['CAO'].median(),\n",
    "                       intermediate_plutonic['CAO'].median(),\n",
    "                       felsic['CAO'].median(),\n",
    "                       felsic_volc['CAO'].median(),\n",
    "                       felsic_plutonic['CAO'].median(),\n",
    "                       siliciclastic['CAO'].median(),\n",
    "                       np.nan,\n",
    "                       gneiss['CAO'].median()])\n",
    "CaO_mean = np.array([ultramafic['CAO'].mean(),\n",
    "                     mafic['CAO'].mean(),\n",
    "                     mafic_volc['CAO'].mean(),\n",
    "                     mafic_plutonic['CAO'].mean(),\n",
    "                     intermediate['CAO'].mean(),\n",
    "                     intermediate_volc['CAO'].mean(),\n",
    "                     intermediate_plutonic['CAO'].mean(),\n",
    "                     felsic['CAO'].mean(),\n",
    "                     felsic_volc['CAO'].mean(),\n",
    "                     felsic_plutonic['CAO'].mean(),\n",
    "                     siliciclastic['CAO'].mean(),\n",
    "                     UCC_CaO,\n",
    "                     gneiss['CAO'].mean()])\n",
    "CaO_std = np.array([ultramafic['CAO'].std(),\n",
    "                    mafic['CAO'].std(),\n",
    "                    mafic_volc['CAO'].std(),\n",
    "                    mafic_plutonic['CAO'].std(),\n",
    "                    intermediate['CAO'].std(),\n",
    "                    intermediate_volc['CAO'].std(),\n",
    "                    intermediate_plutonic['CAO'].std(),\n",
    "                    felsic['CAO'].std(),\n",
    "                    felsic_volc['CAO'].std(),\n",
    "                    felsic_plutonic['CAO'].std(),\n",
    "                    siliciclastic['CAO'].std(),\n",
    "                    np.nan,\n",
    "                    gneiss['CAO'].std()])\n",
    "Na2O_median = np.array([ultramafic['NA2O'].median(),\n",
    "                        mafic['NA2O'].median(),\n",
    "                        mafic_volc['NA2O'].median(),\n",
    "                        mafic_plutonic['NA2O'].median(),\n",
    "                        intermediate['NA2O'].median(),\n",
    "                        intermediate_volc['NA2O'].median(),\n",
    "                        intermediate_plutonic['NA2O'].median(),\n",
    "                        felsic['NA2O'].median(),\n",
    "                        felsic_volc['NA2O'].median(),\n",
    "                        felsic_plutonic['NA2O'].median(),\n",
    "                        siliciclastic['NA2O'].median(),\n",
    "                        np.nan,\n",
    "                        gneiss['NA2O'].median()])\n",
    "Na2O_mean = np.array([ultramafic['NA2O'].mean(),\n",
    "                      mafic['NA2O'].mean(),\n",
    "                      mafic_volc['NA2O'].mean(),\n",
    "                      mafic_plutonic['NA2O'].mean(),\n",
    "                      intermediate['NA2O'].mean(),\n",
    "                      intermediate_volc['NA2O'].mean(),\n",
    "                      intermediate_plutonic['NA2O'].mean(),\n",
    "                      felsic['NA2O'].mean(),\n",
    "                      felsic_volc['NA2O'].mean(),\n",
    "                      felsic_plutonic['NA2O'].mean(),\n",
    "                      siliciclastic['NA2O'].mean(),\n",
    "                      np.nan,\n",
    "                      gneiss['NA2O'].mean()])\n",
    "Na2O_std = np.array([ultramafic['NA2O'].std(),\n",
    "                     mafic['NA2O'].std(),\n",
    "                     mafic_volc['NA2O'].std(),\n",
    "                     mafic_plutonic['NA2O'].std(),\n",
    "                     intermediate['NA2O'].std(),\n",
    "                     intermediate_volc['NA2O'].std(),\n",
    "                     intermediate_plutonic['NA2O'].std(),\n",
    "                     felsic['NA2O'].std(),\n",
    "                     felsic_volc['NA2O'].std(),\n",
    "                     felsic_plutonic['NA2O'].std(),\n",
    "                     siliciclastic['NA2O'].std(),\n",
    "                     np.nan,\n",
    "                     gneiss['NA2O'].std()])\n",
    "K2O_median = np.array([ultramafic['K2O'].median(),\n",
    "                       mafic['K2O'].median(),\n",
    "                       mafic_volc['K2O'].median(),\n",
    "                       mafic_plutonic['K2O'].median(),\n",
    "                       intermediate['K2O'].median(),\n",
    "                       intermediate_volc['K2O'].median(),\n",
    "                       intermediate_plutonic['K2O'].median(),\n",
    "                       felsic['K2O'].median(),\n",
    "                       felsic_volc['K2O'].median(),\n",
    "                       felsic_plutonic['K2O'].median(),\n",
    "                       siliciclastic['K2O'].median(),\n",
    "                       np.nan,\n",
    "                       gneiss['K2O'].median()])\n",
    "K2O_mean = np.array([ultramafic['K2O'].mean(),\n",
    "                     mafic['K2O'].mean(),\n",
    "                     mafic_volc['K2O'].mean(),\n",
    "                     mafic_plutonic['K2O'].mean(),\n",
    "                     intermediate['K2O'].mean(),\n",
    "                     intermediate_volc['K2O'].mean(),\n",
    "                     intermediate_plutonic['K2O'].mean(),\n",
    "                     felsic['K2O'].mean(),\n",
    "                     felsic_volc['K2O'].mean(),\n",
    "                     felsic_plutonic['K2O'].mean(),\n",
    "                     siliciclastic['K2O'].mean(),\n",
    "                     np.nan,\n",
    "                     gneiss['K2O'].mean()])\n",
    "K2O_std = np.array([ultramafic['K2O'].std(),\n",
    "                    mafic['K2O'].std(),\n",
    "                    mafic_volc['K2O'].std(),\n",
    "                    mafic_plutonic['K2O'].std(),\n",
    "                    intermediate['K2O'].std(),\n",
    "                    intermediate_volc['K2O'].std(),\n",
    "                    intermediate_plutonic['K2O'].std(),\n",
    "                    felsic['K2O'].std(),\n",
    "                    felsic_volc['K2O'].std(),\n",
    "                    felsic_plutonic['K2O'].std(),\n",
    "                    siliciclastic['K2O'].std(),\n",
    "                    np.nan,\n",
    "                    gneiss['K2O'].std()])\n",
    "\n",
    "geochem_stats = pd.DataFrame({'class':lith_class,\n",
    "                              'n':n,\n",
    "                              'MgO median':MgO_median,\n",
    "                              'MgO mean':MgO_mean,\n",
    "                              'MgO std':MgO_std,\n",
    "                              'CaO median':CaO_median,\n",
    "                              'CaO mean':CaO_mean,\n",
    "                              'CaO std':CaO_std,\n",
    "                              'Na2O median':Na2O_median,\n",
    "                              'Na2O mean':Na2O_mean,\n",
    "                              'Na2O std':Na2O_std,\n",
    "                              'K2O median':K2O_median,\n",
    "                              'K2O mean':K2O_mean,\n",
    "                              'K2O std':K2O_std})\n",
    "\n",
    "geochem_stats"
   ]
  },
  {
   "cell_type": "markdown",
   "metadata": {},
   "source": [
    "For the purposes of comparision and sanity-check for the siliciclastic, Table 5.1 of Taylor and MacLennan (1985) shows all post-Archean sedimentary rocks to have MgO of 2.3±0.3 and CaO of 2.0±0.5. The median values for siliciclastic are within the bounds of these reported values and are what we will use. We will use the mean for the others."
   ]
  },
  {
   "cell_type": "code",
   "execution_count": 10,
   "metadata": {},
   "outputs": [
    {
     "data": {
      "image/png": "[encoded data removed]",
      "text/plain": [
       "<Figure size 720x432 with 4 Axes>"
      ]
     },
     "metadata": {
      "needs_background": "light"
     },
     "output_type": "display_data"
    }
   ],
   "source": [
    "fig, ax = plt.subplots(nrows=2, ncols=2, figsize=(10,6), sharex=True, sharey='row')\n",
    "\n",
    "ax = ax.flatten()\n",
    "\n",
    "x_pos = np.arange(len(geochem_stats.index))\n",
    "\n",
    "ax[0].bar(x_pos, geochem_stats['MgO median'])\n",
    "ax[0].set_ylim(0, np.max(geochem_stats['MgO median'])*1.1)\n",
    "\n",
    "ax[1].bar(x_pos, geochem_stats['MgO mean'], yerr=geochem_stats['MgO std'])\n",
    "ax[1].set_ylim(0, np.max(geochem_stats['MgO mean']+geochem_stats['MgO std'])*1.1)\n",
    "\n",
    "ax[2].bar(x_pos, geochem_stats['CaO median'])\n",
    "ax[2].set_ylim(0, np.max(geochem_stats['CaO median'])*1.1)\n",
    "\n",
    "ax[3].bar(x_pos, geochem_stats['CaO mean'], yerr=geochem_stats['CaO std'])\n",
    "ax[3].set_ylim(0, np.max(geochem_stats['CaO mean']+geochem_stats['CaO std'])*1.1)\n",
    "\n",
    "ax[0].set_ylabel('MgO %')\n",
    "ax[2].set_ylabel('CaO %')\n",
    "\n",
    "ax[2].set_xticks(x_pos)\n",
    "ax[2].set_xticklabels(geochem_stats['class'], rotation=45, horizontalalignment='right')\n",
    "\n",
    "ax[3].set_xticks(x_pos)\n",
    "ax[3].set_xticklabels(geochem_stats['class'], rotation=45, horizontalalignment='right')\n",
    "\n",
    "ax[0].set_title('MEDIAN')\n",
    "ax[1].set_title('MEAN')\n",
    "\n",
    "fig.tight_layout()\n",
    "plt.show(fig)"
   ]
  },
  {
   "cell_type": "code",
   "execution_count": 11,
   "metadata": {},
   "outputs": [
    {
     "data": {
      "image/png": "[encoded data removed]",
      "text/plain": [
       "<Figure size 720x432 with 4 Axes>"
      ]
     },
     "metadata": {
      "needs_background": "light"
     },
     "output_type": "display_data"
    }
   ],
   "source": [
    "fig, ax = plt.subplots(nrows=2, ncols=2, figsize=(10,6), sharex=True, sharey='row')\n",
    "\n",
    "ax = ax.flatten()\n",
    "\n",
    "x_pos = np.arange(len(geochem_stats.index))\n",
    "\n",
    "ax[0].bar(x_pos, geochem_stats['MgO median'])\n",
    "ax[0].set_ylim(0, 10)\n",
    "\n",
    "ax[1].bar(x_pos, geochem_stats['MgO mean'], yerr=geochem_stats['MgO std'])\n",
    "ax[1].set_ylim(0, 10)\n",
    "\n",
    "ax[2].bar(x_pos, geochem_stats['CaO median'])\n",
    "ax[2].set_ylim(0, 10)\n",
    "\n",
    "ax[3].bar(x_pos, geochem_stats['CaO mean'], yerr=geochem_stats['CaO std'])\n",
    "ax[3].set_ylim(0, 10)\n",
    "\n",
    "ax[0].set_ylabel('MgO %')\n",
    "ax[2].set_ylabel('CaO %')\n",
    "\n",
    "ax[2].set_xticks(x_pos)\n",
    "ax[2].set_xticklabels(geochem_stats['class'], rotation=45, horizontalalignment='right')\n",
    "\n",
    "ax[3].set_xticks(x_pos)\n",
    "ax[3].set_xticklabels(geochem_stats['class'], rotation=45, horizontalalignment='right')\n",
    "\n",
    "ax[0].set_title('MEDIAN')\n",
    "ax[1].set_title('MEAN')\n",
    "\n",
    "fig.tight_layout()\n",
    "plt.show(fig)"
   ]
  },
  {
   "cell_type": "markdown",
   "metadata": {},
   "source": [
    "## Calculate mol/m$^3$ for each composition"
   ]
  },
  {
   "cell_type": "code",
   "execution_count": 12,
   "metadata": {},
   "outputs": [],
   "source": [
    "# formula weight of elements (g/mol)\n",
    "FW_O = 15.999\n",
    "FW_Mg = 24.305\n",
    "FW_Ca = 40.078\n",
    "FW_Na = 22.990\n",
    "FW_K = 39.098\n",
    "\n",
    "# weight fraction in mafic (kg/kg)\n",
    "m_MgO_mafic = np.float(geochem_stats[geochem_stats['class']=='mafic']['MgO mean'])/100\n",
    "m_CaO_mafic = np.float(geochem_stats[geochem_stats['class']=='mafic']['CaO mean'])/100\n",
    "m_Na2O_mafic = np.float(geochem_stats[geochem_stats['class']=='mafic']['Na2O mean'])/100\n",
    "m_K2O_mafic = np.float(geochem_stats[geochem_stats['class']=='mafic']['K2O mean'])/100\n",
    "\n",
    "# weight fraction in intermediate (kg/kg)\n",
    "m_MgO_intermediate = np.float(geochem_stats[geochem_stats['class']=='intermediate']['MgO mean'])/100\n",
    "m_CaO_intermediate = np.float(geochem_stats[geochem_stats['class']=='intermediate']['CaO mean'])/100\n",
    "m_Na2O_intermediate = np.float(geochem_stats[geochem_stats['class']=='intermediate']['Na2O mean'])/100\n",
    "m_K2O_intermediate = np.float(geochem_stats[geochem_stats['class']=='intermediate']['K2O mean'])/100\n",
    "\n",
    "# weight fraction in felsic (kg/kg)\n",
    "m_MgO_felsic = np.float(geochem_stats[geochem_stats['class']=='felsic']['MgO mean'])/100\n",
    "m_CaO_felsic = np.float(geochem_stats[geochem_stats['class']=='felsic']['CaO mean'])/100\n",
    "m_Na2O_felsic = np.float(geochem_stats[geochem_stats['class']=='felsic']['Na2O mean'])/100\n",
    "m_K2O_felsic = np.float(geochem_stats[geochem_stats['class']=='felsic']['K2O mean'])/100\n",
    "\n",
    "# weight fraction in siliciclastic (kg/kg)\n",
    "m_MgO_siliciclastic = np.float(geochem_stats[geochem_stats['class']=='siliciclastic']['MgO median'])/100\n",
    "m_CaO_siliciclastic = np.float(geochem_stats[geochem_stats['class']=='siliciclastic']['CaO median'])/100\n",
    "m_Na2O_siliciclastic = np.float(geochem_stats[geochem_stats['class']=='siliciclastic']['Na2O mean'])/100\n",
    "m_K2O_siliciclastic = np.float(geochem_stats[geochem_stats['class']=='siliciclastic']['K2O mean'])/100\n",
    "\n",
    "# weight fraction in upper continental crust (kg/kg)\n",
    "m_MgO_UCC = np.float(geochem_stats[geochem_stats['class']=='bulk continental crust']['MgO mean'])/100\n",
    "m_CaO_UCC = np.float(geochem_stats[geochem_stats['class']=='bulk continental crust']['CaO mean'])/100\n",
    "\n",
    "# densities (kg/m3)\n",
    "rho_bas = 3000\n",
    "rho_andesite = 2800\n",
    "rho_rhyolite = 2500\n",
    "rho_siliciclastic = 2300\n",
    "rho_UCC = 2700\n",
    "\n",
    "# convert formula weight to mol/kg\n",
    "unit_FW_Mg = 1/(FW_Mg/1000)\n",
    "unit_FW_Ca = 1/(FW_Ca/1000)\n",
    "unit_FW_Na = 1/(FW_Na/1000)\n",
    "unit_FW_K = 1/(FW_K/1000)"
   ]
  },
  {
   "cell_type": "code",
   "execution_count": 13,
   "metadata": {},
   "outputs": [],
   "source": [
    "# weight fraction of Mg (kg/kg)\n",
    "m_Mg_mafic = (FW_Mg / (FW_Mg + FW_O)) * m_MgO_mafic\n",
    "m_Mg_intermediate = (FW_Mg / (FW_Mg + FW_O)) * m_MgO_intermediate\n",
    "m_Mg_felsic = (FW_Mg / (FW_Mg + FW_O)) * m_MgO_felsic\n",
    "m_Mg_siliciclastic = (FW_Mg / (FW_Mg + FW_O)) * m_MgO_siliciclastic\n",
    "m_Mg_UCC = (FW_Mg / (FW_Mg + FW_O)) * m_MgO_UCC"
   ]
  },
  {
   "cell_type": "code",
   "execution_count": 14,
   "metadata": {},
   "outputs": [],
   "source": [
    "# weight fraction of Ca (kg/kg)\n",
    "m_Ca_mafic = (FW_Ca / (FW_Ca + FW_O)) * m_CaO_mafic\n",
    "m_Ca_intermediate = (FW_Ca / (FW_Ca + FW_O)) * m_CaO_intermediate\n",
    "m_Ca_felsic = (FW_Ca / (FW_Ca + FW_O)) * m_CaO_felsic\n",
    "m_Ca_siliciclastic = (FW_Ca / (FW_Ca + FW_O)) * m_CaO_siliciclastic\n",
    "m_Ca_UCC = (FW_Ca / (FW_Ca + FW_O)) * m_CaO_UCC"
   ]
  },
  {
   "cell_type": "code",
   "execution_count": 15,
   "metadata": {},
   "outputs": [],
   "source": [
    "# weight fraction of Na (kg/kg)\n",
    "m_Na_mafic = ((FW_Na*2) / ((FW_Na*2) + FW_O)) * m_Na2O_mafic\n",
    "m_Na_intermediate = ((FW_Na*2) / ((FW_Na*2) + FW_O)) * m_Na2O_intermediate\n",
    "m_Na_felsic = ((FW_Na*2) / ((FW_Na*2) + FW_O)) * m_Na2O_felsic\n",
    "m_Na_siliciclastic = ((FW_Na*2) / ((FW_Na*2) + FW_O)) * m_Na2O_siliciclastic"
   ]
  },
  {
   "cell_type": "code",
   "execution_count": 16,
   "metadata": {},
   "outputs": [],
   "source": [
    "# weight fraction of K (kg/kg)\n",
    "m_K_mafic = ((FW_K*2) / ((FW_K*2) + FW_O)) * m_K2O_mafic\n",
    "m_K_intermediate = ((FW_K*2) / ((FW_K*2) + FW_O)) * m_K2O_intermediate\n",
    "m_K_felsic = ((FW_K*2) / ((FW_K*2) + FW_O)) * m_K2O_felsic\n",
    "m_K_siliciclastic = ((FW_K*2) / ((FW_K*2) + FW_O)) * m_K2O_siliciclastic"
   ]
  },
  {
   "cell_type": "code",
   "execution_count": 17,
   "metadata": {},
   "outputs": [
    {
     "name": "stdout",
     "output_type": "stream",
     "text": [
      "Ca + Mg in mol/m3:\n",
      "------------------\n",
      "mafic                  = 10317.0\n",
      "intermediate           = 4758.6\n",
      "felsic                 = 1520.5\n",
      "siliciclastic          = 2235.0\n",
      "bulk continental crust = 3389.9\n"
     ]
    }
   ],
   "source": [
    "CaMg_mafic = (m_Mg_mafic * unit_FW_Mg * rho_bas)+(m_Ca_mafic * unit_FW_Ca * rho_bas)\n",
    "CaMg_int = (m_Mg_intermediate * unit_FW_Mg * rho_andesite)+(m_Ca_intermediate * unit_FW_Ca * rho_andesite)\n",
    "CaMg_felsic = (m_Mg_felsic * unit_FW_Mg * rho_rhyolite)+(m_Ca_felsic * unit_FW_Ca * rho_rhyolite)\n",
    "CaMg_siliciclastic = (m_Mg_siliciclastic * unit_FW_Mg * rho_siliciclastic)+(m_Ca_siliciclastic * unit_FW_Ca * rho_siliciclastic)\n",
    "CaMg_UCC = (m_Mg_UCC * unit_FW_Mg * rho_UCC)+(m_Ca_UCC * unit_FW_Ca * rho_UCC)\n",
    "\n",
    "print('Ca + Mg in mol/m3:')\n",
    "print('------------------')\n",
    "print('mafic                  = {:.1f}'.format(CaMg_mafic))\n",
    "print('intermediate           = {:.1f}'.format(CaMg_int))\n",
    "print('felsic                 = {:.1f}'.format(CaMg_felsic))\n",
    "print('siliciclastic          = {:.1f}'.format(CaMg_siliciclastic))\n",
    "print('bulk continental crust = {:.1f}'.format(CaMg_UCC))"
   ]
  },
  {
   "cell_type": "code",
   "execution_count": 18,
   "metadata": {},
   "outputs": [
    {
     "name": "stdout",
     "output_type": "stream",
     "text": [
      "Na + K in mol/m3:\n",
      "------------------\n",
      "mafic                  = 3395.3\n",
      "intermediate           = 5131.6\n",
      "felsic                 = 4889.9\n",
      "siliciclastic          = 2368.2\n"
     ]
    }
   ],
   "source": [
    "NaK_mafic = (m_Na_mafic * unit_FW_Na * rho_bas)+(m_K_mafic * unit_FW_K * rho_bas)\n",
    "NaK_int = (m_Na_intermediate * unit_FW_Na * rho_andesite)+(m_K_intermediate * unit_FW_K * rho_andesite)\n",
    "NaK_felsic = (m_Na_felsic * unit_FW_Na * rho_rhyolite)+(m_K_felsic * unit_FW_K * rho_rhyolite)\n",
    "NaK_siliciclastic = (m_Na_siliciclastic * unit_FW_Na * rho_siliciclastic)+(m_K_siliciclastic * unit_FW_K * rho_siliciclastic)\n",
    "\n",
    "print('Na + K in mol/m3:')\n",
    "print('------------------')\n",
    "print('mafic                  = {:.1f}'.format(NaK_mafic))\n",
    "print('intermediate           = {:.1f}'.format(NaK_int))\n",
    "print('felsic                 = {:.1f}'.format(NaK_felsic))\n",
    "print('siliciclastic          = {:.1f}'.format(NaK_siliciclastic))"
   ]
  },
  {
   "cell_type": "code",
   "execution_count": 19,
   "metadata": {},
   "outputs": [
    {
     "name": "stdout",
     "output_type": "stream",
     "text": [
      "Ca + Mg + Na + K in mol/m3:\n",
      "------------------\n",
      "mafic                  = 13712.3\n",
      "intermediate           = 9890.2\n",
      "felsic                 = 6410.4\n",
      "siliciclastic          = 4603.2\n"
     ]
    }
   ],
   "source": [
    "CaMgNaK_mafic = CaMg_mafic + NaK_mafic\n",
    "CaMgNaK_int = CaMg_int + NaK_int\n",
    "CaMgNaK_felsic = CaMg_felsic + NaK_felsic\n",
    "CaMgNaK_siliciclastic = CaMg_siliciclastic + NaK_siliciclastic\n",
    "\n",
    "print('Ca + Mg + Na + K in mol/m3:')\n",
    "print('------------------')\n",
    "print('mafic                  = {:.1f}'.format(CaMgNaK_mafic))\n",
    "print('intermediate           = {:.1f}'.format(CaMgNaK_int))\n",
    "print('felsic                 = {:.1f}'.format(CaMgNaK_felsic))\n",
    "print('siliciclastic          = {:.1f}'.format(CaMgNaK_siliciclastic))"
   ]
  },
  {
   "cell_type": "code",
   "execution_count": 20,
   "metadata": {},
   "outputs": [
    {
     "data": {
      "image/png": "[encoded data removed]",
      "text/plain": [
       "<Figure size 432x288 with 1 Axes>"
      ]
     },
     "metadata": {
      "needs_background": "light"
     },
     "output_type": "display_data"
    }
   ],
   "source": [
    "fig, ax = plt.subplots()\n",
    "\n",
    "width = 0.2\n",
    "gap = 0.05\n",
    "x_pos_2 = np.arange(3)\n",
    "x_pos_1 = x_pos_2 - width - gap\n",
    "x_pos_3 = x_pos_2 + width + gap\n",
    "\n",
    "ax.bar(x_pos_1, [CaMg_mafic, NaK_mafic, CaMgNaK_mafic],\n",
    "       width, facecolor='orangered', label='mafic')\n",
    "ax.bar(x_pos_2, [CaMg_int, NaK_int, CaMgNaK_int],\n",
    "       width, facecolor='darkorange', label='intermediate')\n",
    "ax.bar(x_pos_3, [CaMg_felsic, NaK_felsic, CaMgNaK_felsic],\n",
    "       width, facecolor='pink', label='felsic')\n",
    "\n",
    "ax.set_xticks(x_pos_2)\n",
    "ax.set_xticklabels(['Ca+Mg', 'Na+K', 'Ca+Mg+Na+K'])\n",
    "ax.set_ylabel('mol/m$^{3}$')\n",
    "ax.legend()\n",
    "\n",
    "#plt.savefig('../../Manuscript/Figures/lithology_composition.pdf', bbox_inches='tight')\n",
    "plt.show()"
   ]
  },
  {
   "cell_type": "markdown",
   "metadata": {},
   "source": [
    "## Applying these values to the Global Lithological Map\n",
    "\n",
    "We develop 7 categories using the Hartmann and Moosdorf (2012) global lithological map database GLiM and assign the GLiM units to these categories:\n",
    "\n",
    "|ID |type |GLiM unit types in category| assigned Ca + Mg (mol/m3)|\n",
    "|---|-----|---------------------------|--------------------------|\n",
    "|0  | ocean/ice/lakes | ig, wb | - |\n",
    "|1  | bulk continental crust | mt, nd | 3390 |\n",
    "|2  | felsic | pa, py, va | 1521 |\n",
    "|3  | intermediate | pi, vi | 4759 |\n",
    "|4  | mafic | pb, vb | 10317 |\n",
    "|5  | carbonate | ev, sc | - |\n",
    "|6  | siliciclastic | sm, ss, su | 2235 |"
   ]
  },
  {
   "cell_type": "markdown",
   "metadata": {},
   "source": [
    "## Compare to original GEOCLIM DYNSOIL value\n",
    "\n",
    "The value for CaMg_UCC in the DYNSOIL code was developed using the framework described in the cell below and calibrated to match a total cation flux of 6.8 Tmol/yr. It might be better to match to a total Ca/Mg cation flux. In Gaillardet et al. (1999), the total Ca/Mg cation flux is given as 2500 10^9 mol/yr, but it looks like this number doesn't include the volcanic island/arc flux which is estimated to be 40% of the Mg-Ca silicate weathering. Perhaps that means that the total Ca/Mg cation flux should be 3500 10^9 mol/yr (i.e 3.5 Tmol/yr)? "
   ]
  },
  {
   "cell_type": "code",
   "execution_count": 21,
   "metadata": {},
   "outputs": [
    {
     "data": {
      "text/plain": [
       "3500.0"
      ]
     },
     "execution_count": 21,
     "metadata": {},
     "output_type": "execute_result"
    }
   ],
   "source": [
    "2500+(2500*.4)"
   ]
  },
  {
   "cell_type": "code",
   "execution_count": 22,
   "metadata": {
    "scrolled": true
   },
   "outputs": [
    {
     "data": {
      "text/plain": [
       "3453.125"
      ]
     },
     "execution_count": 22,
     "metadata": {},
     "output_type": "execute_result"
    }
   ],
   "source": [
    "# the original value for CaMg_UCC in the GEOCLIM DYNSOIL code was 3453 mol/m^3\n",
    "# this value was calibrated to match 6.8 and calculated using the values below\n",
    "\n",
    "#tuned so that total weathering is 6.8 cation flux with PAL of 1\n",
    "tuning_factor = 0.85 \n",
    "\n",
    "#mol of Ca and Mg cations per kg of cation (Gaillardet et al. 1999)\n",
    "mol_CaMg_kg = 12.5 \n",
    "\n",
    "#fraction cation in rock (first parameter in West 2012 table which he gives as \n",
    "#best fit of 0.09 and range of 0.04 to 0.13)\n",
    "#Rudnick and Gao have 0.08 to 0.10 as expected fraction of cations in fresh rock\n",
    "frac_cation = 0.13 \n",
    "\n",
    "#density of rock (needed to convert into volume)\n",
    "density_UCC = 2500\n",
    "\n",
    "CaMg_UCC = tuning_factor * mol_CaMg_kg * frac_cation * density_UCC\n",
    "CaMg_UCC"
   ]
  },
  {
   "cell_type": "markdown",
   "metadata": {},
   "source": [
    "If the values are kept the same as above, but the fraction cation in rock is reduced to 0.04 (the minimum range value in the West, 2012 fit) then the CaMg_UCC is quite close to the value calculated above for felsic rocks."
   ]
  },
  {
   "cell_type": "code",
   "execution_count": 23,
   "metadata": {},
   "outputs": [
    {
     "data": {
      "text/plain": [
       "1250.0"
      ]
     },
     "execution_count": 23,
     "metadata": {},
     "output_type": "execute_result"
    }
   ],
   "source": [
    "# revised value for UCC\n",
    "\n",
    "#\n",
    "tuning_factor = 1 \n",
    "\n",
    "#mol of Ca and Mg cations per kg of cation (Gaillardet et al. 1999)\n",
    "mol_CaMg_kg = 12.5 \n",
    "\n",
    "#fraction cation in rock (first parameter in West 2012 table which he gives as \n",
    "#best fit of 0.09 and range of 0.04 to 0.13)\n",
    "#Rudnick and Gao have 0.08 to 0.10 as expeted fraction of cations in fresh rock\n",
    "frac_cation = 0.04 \n",
    "\n",
    "#density of rock (needed to convert into volume)\n",
    "density_UCC = 2500\n",
    "\n",
    "CaMg_UCC = tuning_factor * mol_CaMg_kg * frac_cation * density_UCC\n",
    "CaMg_UCC"
   ]
  }
 ],
 "metadata": {
  "kernelspec": {
   "display_name": "Python 3",
   "language": "python",
   "name": "python3"
  },
  "language_info": {
   "codemirror_mode": {
    "name": "ipython",
    "version": 3
   },
   "file_extension": ".py",
   "mimetype": "text/x-python",
   "name": "python",
   "nbconvert_exporter": "python",
   "pygments_lexer": "ipython3",
   "version": "3.7.7"
  },
  "toc": {
   "base_numbering": 1,
   "nav_menu": {},
   "number_sections": false,
   "sideBar": true,
   "skip_h1_title": false,
   "title_cell": "Table of Contents",
   "title_sidebar": "Contents",
   "toc_cell": false,
   "toc_position": {
    "height": "calc(100% - 180px)",
    "left": "10px",
    "top": "150px",
    "width": "255px"
   },
   "toc_section_display": true,
   "toc_window_display": true
  },
  "varInspector": {
   "cols": {
    "lenName": 16,
    "lenType": 16,
    "lenVar": 40
   },
   "kernels_config": {
    "python": {
     "delete_cmd_postfix": "",
     "delete_cmd_prefix": "del ",
     "library": "var_list.py",
     "varRefreshCmd": "print(var_dic_list())"
    },
    "r": {
     "delete_cmd_postfix": ") ",
     "delete_cmd_prefix": "rm(",
     "library": "var_list.r",
     "varRefreshCmd": "cat(var_dic_list()) "
    }
   },
   "types_to_exclude": [
    "module",
    "function",
    "builtin_function_or_method",
    "instance",
    "_Feature"
   ],
   "window_display": false
  }
 },
 "nbformat": 4,
 "nbformat_minor": 2
}
